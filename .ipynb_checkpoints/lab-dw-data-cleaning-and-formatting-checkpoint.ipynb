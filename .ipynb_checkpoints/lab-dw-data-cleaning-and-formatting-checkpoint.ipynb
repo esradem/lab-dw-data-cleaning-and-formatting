{
 "cells": [
  {
   "cell_type": "markdown",
   "id": "25d7736c-ba17-4aff-b6bb-66eba20fbf4e",
   "metadata": {
    "id": "25d7736c-ba17-4aff-b6bb-66eba20fbf4e"
   },
   "source": [
    "# Lab | Data Cleaning and Formatting"
   ]
  },
  {
   "cell_type": "markdown",
   "id": "d1973e9e-8be6-4039-b70e-d73ee0d94c99",
   "metadata": {
    "id": "d1973e9e-8be6-4039-b70e-d73ee0d94c99"
   },
   "source": [
    "In this lab, we will be working with the customer data from an insurance company, which can be found in the CSV file located at the following link: https://raw.githubusercontent.com/data-bootcamp-v4/data/main/file1.csv\n"
   ]
  },
  {
   "cell_type": "markdown",
   "id": "31b8a9e7-7db9-4604-991b-ef6771603e57",
   "metadata": {
    "id": "31b8a9e7-7db9-4604-991b-ef6771603e57"
   },
   "source": [
    "# Challenge 1: Data Cleaning and Formatting"
   ]
  },
  {
   "cell_type": "markdown",
   "id": "81553f19-9f2c-484b-8940-520aff884022",
   "metadata": {
    "id": "81553f19-9f2c-484b-8940-520aff884022"
   },
   "source": [
    "## Exercise 1: Cleaning Column Names"
   ]
  },
  {
   "cell_type": "markdown",
   "id": "34a929f4-1be4-4fa8-adda-42ffd920be90",
   "metadata": {
    "id": "34a929f4-1be4-4fa8-adda-42ffd920be90"
   },
   "source": [
    "To ensure consistency and ease of use, standardize the column names of the dataframe. Start by taking a first look at the dataframe and identifying any column names that need to be modified. Use appropriate naming conventions and make sure that column names are descriptive and informative.\n",
    "\n",
    "*Hint*:\n",
    "- *Column names should be in lower case*\n",
    "- *White spaces in column names should be replaced by `_`*\n",
    "- *`st` could be replaced for `state`*"
   ]
  },
  {
   "cell_type": "code",
   "execution_count": 3,
   "id": "5810735c-8056-4442-bbf2-dda38d3e284a",
   "metadata": {
    "id": "5810735c-8056-4442-bbf2-dda38d3e284a"
   },
   "outputs": [],
   "source": [
    "# importing library and read df\n",
    "import pandas as pd"
   ]
  },
  {
   "cell_type": "code",
   "execution_count": 5,
   "id": "ea297346-1b07-4bd0-9884-d1701cba859a",
   "metadata": {},
   "outputs": [
    {
     "data": {
      "text/html": [
       "<div>\n",
       "<style scoped>\n",
       "    .dataframe tbody tr th:only-of-type {\n",
       "        vertical-align: middle;\n",
       "    }\n",
       "\n",
       "    .dataframe tbody tr th {\n",
       "        vertical-align: top;\n",
       "    }\n",
       "\n",
       "    .dataframe thead th {\n",
       "        text-align: right;\n",
       "    }\n",
       "</style>\n",
       "<table border=\"1\" class=\"dataframe\">\n",
       "  <thead>\n",
       "    <tr style=\"text-align: right;\">\n",
       "      <th></th>\n",
       "      <th>Customer</th>\n",
       "      <th>ST</th>\n",
       "      <th>GENDER</th>\n",
       "      <th>Education</th>\n",
       "      <th>Customer Lifetime Value</th>\n",
       "      <th>Income</th>\n",
       "      <th>Monthly Premium Auto</th>\n",
       "      <th>Number of Open Complaints</th>\n",
       "      <th>Policy Type</th>\n",
       "      <th>Vehicle Class</th>\n",
       "      <th>Total Claim Amount</th>\n",
       "    </tr>\n",
       "  </thead>\n",
       "  <tbody>\n",
       "    <tr>\n",
       "      <th>0</th>\n",
       "      <td>RB50392</td>\n",
       "      <td>Washington</td>\n",
       "      <td>NaN</td>\n",
       "      <td>Master</td>\n",
       "      <td>NaN</td>\n",
       "      <td>0.0</td>\n",
       "      <td>1000.0</td>\n",
       "      <td>1/0/00</td>\n",
       "      <td>Personal Auto</td>\n",
       "      <td>Four-Door Car</td>\n",
       "      <td>2.704934</td>\n",
       "    </tr>\n",
       "    <tr>\n",
       "      <th>1</th>\n",
       "      <td>QZ44356</td>\n",
       "      <td>Arizona</td>\n",
       "      <td>F</td>\n",
       "      <td>Bachelor</td>\n",
       "      <td>697953.59%</td>\n",
       "      <td>0.0</td>\n",
       "      <td>94.0</td>\n",
       "      <td>1/0/00</td>\n",
       "      <td>Personal Auto</td>\n",
       "      <td>Four-Door Car</td>\n",
       "      <td>1131.464935</td>\n",
       "    </tr>\n",
       "    <tr>\n",
       "      <th>2</th>\n",
       "      <td>AI49188</td>\n",
       "      <td>Nevada</td>\n",
       "      <td>F</td>\n",
       "      <td>Bachelor</td>\n",
       "      <td>1288743.17%</td>\n",
       "      <td>48767.0</td>\n",
       "      <td>108.0</td>\n",
       "      <td>1/0/00</td>\n",
       "      <td>Personal Auto</td>\n",
       "      <td>Two-Door Car</td>\n",
       "      <td>566.472247</td>\n",
       "    </tr>\n",
       "    <tr>\n",
       "      <th>3</th>\n",
       "      <td>WW63253</td>\n",
       "      <td>California</td>\n",
       "      <td>M</td>\n",
       "      <td>Bachelor</td>\n",
       "      <td>764586.18%</td>\n",
       "      <td>0.0</td>\n",
       "      <td>106.0</td>\n",
       "      <td>1/0/00</td>\n",
       "      <td>Corporate Auto</td>\n",
       "      <td>SUV</td>\n",
       "      <td>529.881344</td>\n",
       "    </tr>\n",
       "    <tr>\n",
       "      <th>4</th>\n",
       "      <td>GA49547</td>\n",
       "      <td>Washington</td>\n",
       "      <td>M</td>\n",
       "      <td>High School or Below</td>\n",
       "      <td>536307.65%</td>\n",
       "      <td>36357.0</td>\n",
       "      <td>68.0</td>\n",
       "      <td>1/0/00</td>\n",
       "      <td>Personal Auto</td>\n",
       "      <td>Four-Door Car</td>\n",
       "      <td>17.269323</td>\n",
       "    </tr>\n",
       "  </tbody>\n",
       "</table>\n",
       "</div>"
      ],
      "text/plain": [
       "  Customer          ST GENDER             Education Customer Lifetime Value  \\\n",
       "0  RB50392  Washington    NaN                Master                     NaN   \n",
       "1  QZ44356     Arizona      F              Bachelor              697953.59%   \n",
       "2  AI49188      Nevada      F              Bachelor             1288743.17%   \n",
       "3  WW63253  California      M              Bachelor              764586.18%   \n",
       "4  GA49547  Washington      M  High School or Below              536307.65%   \n",
       "\n",
       "    Income  Monthly Premium Auto Number of Open Complaints     Policy Type  \\\n",
       "0      0.0                1000.0                    1/0/00   Personal Auto   \n",
       "1      0.0                  94.0                    1/0/00   Personal Auto   \n",
       "2  48767.0                 108.0                    1/0/00   Personal Auto   \n",
       "3      0.0                 106.0                    1/0/00  Corporate Auto   \n",
       "4  36357.0                  68.0                    1/0/00   Personal Auto   \n",
       "\n",
       "   Vehicle Class  Total Claim Amount  \n",
       "0  Four-Door Car            2.704934  \n",
       "1  Four-Door Car         1131.464935  \n",
       "2   Two-Door Car          566.472247  \n",
       "3            SUV          529.881344  \n",
       "4  Four-Door Car           17.269323  "
      ]
     },
     "execution_count": 5,
     "metadata": {},
     "output_type": "execute_result"
    }
   ],
   "source": [
    "ins_df=pd.read_csv('https://raw.githubusercontent.com/data-bootcamp-v4/data/main/file1.csv')\n",
    "ins_df.head()"
   ]
  },
  {
   "cell_type": "code",
   "execution_count": 7,
   "id": "c107b5c7-89a5-49d6-bc7a-6560e4878904",
   "metadata": {},
   "outputs": [],
   "source": [
    "ins_df.columns = ins_df.columns.str.lower().str.replace(' ', '_')\n"
   ]
  },
  {
   "cell_type": "code",
   "execution_count": 9,
   "id": "0428b6f3-d0ad-4695-866d-a540051e4961",
   "metadata": {},
   "outputs": [],
   "source": [
    "ins_df.rename(columns={ 'st' : 'state' }, inplace=True)"
   ]
  },
  {
   "cell_type": "code",
   "execution_count": 11,
   "id": "af7fa5d2-4186-4cbc-9c23-ace9797ed44b",
   "metadata": {},
   "outputs": [
    {
     "data": {
      "text/plain": [
       "Index(['customer', 'state', 'gender', 'education', 'customer_lifetime_value',\n",
       "       'income', 'monthly_premium_auto', 'number_of_open_complaints',\n",
       "       'policy_type', 'vehicle_class', 'total_claim_amount'],\n",
       "      dtype='object')"
      ]
     },
     "execution_count": 11,
     "metadata": {},
     "output_type": "execute_result"
    }
   ],
   "source": [
    "ins_df.columns"
   ]
  },
  {
   "cell_type": "markdown",
   "id": "9cb501ec-36ff-4589-b872-6252bb150316",
   "metadata": {
    "id": "9cb501ec-36ff-4589-b872-6252bb150316"
   },
   "source": [
    "## Exercise 2: Cleaning invalid Values"
   ]
  },
  {
   "cell_type": "markdown",
   "id": "923353ef-d86f-42ef-bb7e-8d1c68764027",
   "metadata": {},
   "source": [
    "The dataset contains columns with inconsistent and incorrect values that could affect the accuracy of our analysis. Therefore, we need to clean these columns to ensure that they only contain valid data.\n",
    "\n",
    "Note that this exercise will focus only on cleaning inconsistent values and will not involve handling null values (NaN or None).\n",
    "\n",
    "Hint:\n",
    "\n",
    "- Gender column contains various inconsistent values such as \"F\", \"M\", \"Femal\", \"Male\", \"female\", which need to be standardized, for example, to \"M\" and \"F\".\n",
    "\n",
    "- State abbreviations be can replaced with its full name, for example \"AZ\": \"Arizona\", \"Cali\": \"California\", \"WA\": \"Washington\"\n",
    "\n",
    "- In education, \"Bachelors\" could be replaced by \"Bachelor\"\n",
    "\n",
    "- In Customer Lifetime Value, delete the % character\n",
    "\n",
    "- In vehicle class, \"Sports Car\", \"Luxury SUV\" and \"Luxury Car\" could be replaced by \"Luxury\""
   ]
  },
  {
   "cell_type": "code",
   "execution_count": 13,
   "id": "74adfa81-f291-4b28-8a4c-8a9c284a7797",
   "metadata": {},
   "outputs": [
    {
     "data": {
      "text/plain": [
       "array([nan, 'F', 'M', 'Femal', 'Male', 'female'], dtype=object)"
      ]
     },
     "execution_count": 13,
     "metadata": {},
     "output_type": "execute_result"
    }
   ],
   "source": [
    "ins_df['gender'].unique()"
   ]
  },
  {
   "cell_type": "code",
   "execution_count": 15,
   "id": "3f8ee5cb-50ab-48af-8a9f-9a389804033c",
   "metadata": {
    "id": "3f8ee5cb-50ab-48af-8a9f-9a389804033c"
   },
   "outputs": [],
   "source": [
    "# Your code here\n",
    "ins_df['gender']=ins_df['gender'].map({\n",
    "    'Femal': 'F' , \n",
    "    'Male': 'M' , \n",
    "    'female' : 'F',\n",
    "    'M':'M',\n",
    "    'F' : 'F'\n",
    "})\n"
   ]
  },
  {
   "cell_type": "code",
   "execution_count": 17,
   "id": "fdad0245-35ae-4815-b76b-4debc7856ea2",
   "metadata": {},
   "outputs": [],
   "source": [
    "ins_df['state'].unique()   #ST is cities to be in one format, full name or shortcut.\n",
    "ins_df['state'] = ins_df['state'].replace({\n",
    "    'Cali': 'California',\n",
    "    'AZ': 'Arizona',\n",
    "    'WA': 'Washington'\n",
    "})\n"
   ]
  },
  {
   "cell_type": "code",
   "execution_count": 19,
   "id": "f29cf6f9-4abc-4685-a9be-dda43bf1ed7d",
   "metadata": {},
   "outputs": [
    {
     "data": {
      "text/plain": [
       "array(['Master', 'Bachelor', 'High School or Below', 'College',\n",
       "       'Bachelors', 'Doctor', nan], dtype=object)"
      ]
     },
     "execution_count": 19,
     "metadata": {},
     "output_type": "execute_result"
    }
   ],
   "source": [
    "ins_df['education'].unique()"
   ]
  },
  {
   "cell_type": "code",
   "execution_count": 21,
   "id": "6753ffda-e5f5-443c-8918-4df0f8ab5043",
   "metadata": {},
   "outputs": [],
   "source": [
    "ins_df['education'] = ins_df['education'].replace('Bachelors', 'Bachelor')\n"
   ]
  },
  {
   "cell_type": "code",
   "execution_count": 23,
   "id": "4a01a443-5701-4f28-a186-41235f71345e",
   "metadata": {},
   "outputs": [],
   "source": [
    "ins_df['customer_lifetime_value']=ins_df['customer_lifetime_value'].str.replace('%','')"
   ]
  },
  {
   "cell_type": "code",
   "execution_count": 25,
   "id": "78537e76-d21a-4e2b-9bef-838800de204a",
   "metadata": {},
   "outputs": [
    {
     "data": {
      "text/plain": [
       "array(['Four-Door Car', 'Two-Door Car', 'SUV', 'Luxury SUV', 'Sports Car',\n",
       "       'Luxury Car', nan], dtype=object)"
      ]
     },
     "execution_count": 25,
     "metadata": {},
     "output_type": "execute_result"
    }
   ],
   "source": [
    "ins_df['vehicle_class'].unique()"
   ]
  },
  {
   "cell_type": "code",
   "execution_count": 27,
   "id": "6be6ff99-4cae-40bf-b90e-25c1d99e4107",
   "metadata": {},
   "outputs": [],
   "source": [
    "\n",
    "replacements={\"Sports Car\" : \"Luxury\",\n",
    "\"Luxury SUV\" : \"Luxury\",\n",
    "\"Luxury Car\" : \"Luxury\"}\n",
    "ins_df[\"vehicle_class\"] = ins_df[\"vehicle_class\"].replace(replacements)"
   ]
  },
  {
   "cell_type": "markdown",
   "id": "85ff78ce-0174-4890-9db3-8048b7d7d2d0",
   "metadata": {
    "id": "85ff78ce-0174-4890-9db3-8048b7d7d2d0"
   },
   "source": [
    "## Exercise 3: Formatting data types"
   ]
  },
  {
   "cell_type": "markdown",
   "id": "b91c2cf8-79a2-4baf-9f65-ff2fb22270bd",
   "metadata": {
    "id": "b91c2cf8-79a2-4baf-9f65-ff2fb22270bd"
   },
   "source": [
    "The data types of many columns in the dataset appear to be incorrect. This could impact the accuracy of our analysis. To ensure accurate analysis, we need to correct the data types of these columns. Please update the data types of the columns as appropriate."
   ]
  },
  {
   "cell_type": "markdown",
   "id": "43e5d853-ff9e-43b2-9d92-aef2f78764f3",
   "metadata": {
    "id": "43e5d853-ff9e-43b2-9d92-aef2f78764f3"
   },
   "source": [
    "It is important to note that this exercise does not involve handling null values (NaN or None)."
   ]
  },
  {
   "cell_type": "markdown",
   "id": "329ca691-9196-4419-8969-3596746237a1",
   "metadata": {
    "id": "329ca691-9196-4419-8969-3596746237a1"
   },
   "source": [
    "*Hint*:\n",
    "- *Customer lifetime value should be numeric*\n",
    "- *Number of open complaints has an incorrect format. Look at the different values it takes with `unique()` and take the middle value. As an example, 1/5/00 should be 5. Number of open complaints is a string - remember you can use `split()` to deal with it and take the number you need. Finally, since it should be numeric, cast the column to be in its proper type.*"
   ]
  },
  {
   "cell_type": "code",
   "execution_count": 33,
   "id": "eb8f5991-73e9-405f-bf1c-6b7c589379a9",
   "metadata": {
    "id": "eb8f5991-73e9-405f-bf1c-6b7c589379a9"
   },
   "outputs": [
    {
     "data": {
      "text/plain": [
       "dtype('O')"
      ]
     },
     "execution_count": 33,
     "metadata": {},
     "output_type": "execute_result"
    }
   ],
   "source": [
    "# Output: dtype('O') → \"object\" (usually string)\n",
    "ins_df['customer_lifetime_value'].dtype\n",
    "\n",
    "#ins_df.dtypes\n",
    "# Output: whole dataframes data types is listed\n"
   ]
  },
  {
   "cell_type": "code",
   "execution_count": 35,
   "id": "824d3566-6fbf-4234-865f-336276bc15ae",
   "metadata": {},
   "outputs": [],
   "source": [
    "ins_df['customer_lifetime_value']=ins_df['customer_lifetime_value'].astype(float)\n"
   ]
  },
  {
   "cell_type": "code",
   "execution_count": 37,
   "id": "0366c3ab-3c5a-42df-b9b8-89142072ec85",
   "metadata": {},
   "outputs": [
    {
     "data": {
      "text/plain": [
       "array(['1/0/00', '1/2/00', '1/1/00', '1/3/00', '1/5/00', '1/4/00', nan],\n",
       "      dtype=object)"
      ]
     },
     "execution_count": 37,
     "metadata": {},
     "output_type": "execute_result"
    }
   ],
   "source": [
    "ins_df.number_of_open_complaints.unique()"
   ]
  },
  {
   "cell_type": "code",
   "execution_count": 39,
   "id": "d9c3608b-bd08-44b5-9b88-ab1df7d347e9",
   "metadata": {},
   "outputs": [
    {
     "data": {
      "text/plain": [
       "0       0\n",
       "1       0\n",
       "2       0\n",
       "3       0\n",
       "4       0\n",
       "       ..\n",
       "1066    1\n",
       "1067    2\n",
       "1068    0\n",
       "1069    0\n",
       "1070    0\n",
       "Name: number_of_open_complaints, Length: 1071, dtype: int64"
      ]
     },
     "execution_count": 39,
     "metadata": {},
     "output_type": "execute_result"
    }
   ],
   "source": [
    "ins_df['number_of_open_complaints'].str.split('/').str[1].dropna().astype(int)\n"
   ]
  },
  {
   "cell_type": "markdown",
   "id": "14c52e28-2d0c-4dd2-8bd5-3476e34fadc1",
   "metadata": {
    "id": "14c52e28-2d0c-4dd2-8bd5-3476e34fadc1"
   },
   "source": [
    "## Exercise 4: Dealing with Null values"
   ]
  },
  {
   "cell_type": "markdown",
   "id": "34b9a20f-7d32-4417-975e-1b4dfb0e16cd",
   "metadata": {
    "id": "34b9a20f-7d32-4417-975e-1b4dfb0e16cd"
   },
   "source": [
    "Identify any columns with null or missing values. Identify how many null values each column has. You can use the `isnull()` function in pandas to find columns with null values.\n",
    "\n",
    "Decide on a strategy for handling the null values. There are several options, including:\n",
    "\n",
    "- Drop the rows or columns with null values\n",
    "- Fill the null values with a specific value (such as the column mean or median for numerical variables, and mode for categorical variables)\n",
    "- Fill the null values with the previous or next value in the column\n",
    "- Fill the null values based on a more complex algorithm or model (note: we haven't covered this yet)\n",
    "\n",
    "Implement your chosen strategy to handle the null values. You can use the `fillna()` function in pandas to fill null values or `dropna()` function to drop null values.\n",
    "\n",
    "Verify that your strategy has successfully handled the null values. You can use the `isnull()` function again to check if there are still null values in the dataset.\n",
    "\n",
    "Remember to document your process and explain your reasoning for choosing a particular strategy for handling null values.\n",
    "\n",
    "After formatting data types, as a last step, convert all the numeric variables to integers."
   ]
  },
  {
   "cell_type": "code",
   "execution_count": 43,
   "id": "f184fc35-7831-4836-a0a5-e7f99e01b40e",
   "metadata": {
    "id": "f184fc35-7831-4836-a0a5-e7f99e01b40e"
   },
   "outputs": [
    {
     "data": {
      "text/html": [
       "<div>\n",
       "<style scoped>\n",
       "    .dataframe tbody tr th:only-of-type {\n",
       "        vertical-align: middle;\n",
       "    }\n",
       "\n",
       "    .dataframe tbody tr th {\n",
       "        vertical-align: top;\n",
       "    }\n",
       "\n",
       "    .dataframe thead th {\n",
       "        text-align: right;\n",
       "    }\n",
       "</style>\n",
       "<table border=\"1\" class=\"dataframe\">\n",
       "  <thead>\n",
       "    <tr style=\"text-align: right;\">\n",
       "      <th></th>\n",
       "      <th>customer</th>\n",
       "      <th>state</th>\n",
       "      <th>gender</th>\n",
       "      <th>education</th>\n",
       "      <th>customer_lifetime_value</th>\n",
       "      <th>income</th>\n",
       "      <th>monthly_premium_auto</th>\n",
       "      <th>number_of_open_complaints</th>\n",
       "      <th>policy_type</th>\n",
       "      <th>vehicle_class</th>\n",
       "      <th>total_claim_amount</th>\n",
       "    </tr>\n",
       "  </thead>\n",
       "  <tbody>\n",
       "    <tr>\n",
       "      <th>0</th>\n",
       "      <td>False</td>\n",
       "      <td>False</td>\n",
       "      <td>True</td>\n",
       "      <td>False</td>\n",
       "      <td>True</td>\n",
       "      <td>False</td>\n",
       "      <td>False</td>\n",
       "      <td>False</td>\n",
       "      <td>False</td>\n",
       "      <td>False</td>\n",
       "      <td>False</td>\n",
       "    </tr>\n",
       "    <tr>\n",
       "      <th>1</th>\n",
       "      <td>False</td>\n",
       "      <td>False</td>\n",
       "      <td>False</td>\n",
       "      <td>False</td>\n",
       "      <td>False</td>\n",
       "      <td>False</td>\n",
       "      <td>False</td>\n",
       "      <td>False</td>\n",
       "      <td>False</td>\n",
       "      <td>False</td>\n",
       "      <td>False</td>\n",
       "    </tr>\n",
       "    <tr>\n",
       "      <th>2</th>\n",
       "      <td>False</td>\n",
       "      <td>False</td>\n",
       "      <td>False</td>\n",
       "      <td>False</td>\n",
       "      <td>False</td>\n",
       "      <td>False</td>\n",
       "      <td>False</td>\n",
       "      <td>False</td>\n",
       "      <td>False</td>\n",
       "      <td>False</td>\n",
       "      <td>False</td>\n",
       "    </tr>\n",
       "    <tr>\n",
       "      <th>3</th>\n",
       "      <td>False</td>\n",
       "      <td>False</td>\n",
       "      <td>False</td>\n",
       "      <td>False</td>\n",
       "      <td>False</td>\n",
       "      <td>False</td>\n",
       "      <td>False</td>\n",
       "      <td>False</td>\n",
       "      <td>False</td>\n",
       "      <td>False</td>\n",
       "      <td>False</td>\n",
       "    </tr>\n",
       "    <tr>\n",
       "      <th>4</th>\n",
       "      <td>False</td>\n",
       "      <td>False</td>\n",
       "      <td>False</td>\n",
       "      <td>False</td>\n",
       "      <td>False</td>\n",
       "      <td>False</td>\n",
       "      <td>False</td>\n",
       "      <td>False</td>\n",
       "      <td>False</td>\n",
       "      <td>False</td>\n",
       "      <td>False</td>\n",
       "    </tr>\n",
       "    <tr>\n",
       "      <th>...</th>\n",
       "      <td>...</td>\n",
       "      <td>...</td>\n",
       "      <td>...</td>\n",
       "      <td>...</td>\n",
       "      <td>...</td>\n",
       "      <td>...</td>\n",
       "      <td>...</td>\n",
       "      <td>...</td>\n",
       "      <td>...</td>\n",
       "      <td>...</td>\n",
       "      <td>...</td>\n",
       "    </tr>\n",
       "    <tr>\n",
       "      <th>4003</th>\n",
       "      <td>True</td>\n",
       "      <td>True</td>\n",
       "      <td>True</td>\n",
       "      <td>True</td>\n",
       "      <td>True</td>\n",
       "      <td>True</td>\n",
       "      <td>True</td>\n",
       "      <td>True</td>\n",
       "      <td>True</td>\n",
       "      <td>True</td>\n",
       "      <td>True</td>\n",
       "    </tr>\n",
       "    <tr>\n",
       "      <th>4004</th>\n",
       "      <td>True</td>\n",
       "      <td>True</td>\n",
       "      <td>True</td>\n",
       "      <td>True</td>\n",
       "      <td>True</td>\n",
       "      <td>True</td>\n",
       "      <td>True</td>\n",
       "      <td>True</td>\n",
       "      <td>True</td>\n",
       "      <td>True</td>\n",
       "      <td>True</td>\n",
       "    </tr>\n",
       "    <tr>\n",
       "      <th>4005</th>\n",
       "      <td>True</td>\n",
       "      <td>True</td>\n",
       "      <td>True</td>\n",
       "      <td>True</td>\n",
       "      <td>True</td>\n",
       "      <td>True</td>\n",
       "      <td>True</td>\n",
       "      <td>True</td>\n",
       "      <td>True</td>\n",
       "      <td>True</td>\n",
       "      <td>True</td>\n",
       "    </tr>\n",
       "    <tr>\n",
       "      <th>4006</th>\n",
       "      <td>True</td>\n",
       "      <td>True</td>\n",
       "      <td>True</td>\n",
       "      <td>True</td>\n",
       "      <td>True</td>\n",
       "      <td>True</td>\n",
       "      <td>True</td>\n",
       "      <td>True</td>\n",
       "      <td>True</td>\n",
       "      <td>True</td>\n",
       "      <td>True</td>\n",
       "    </tr>\n",
       "    <tr>\n",
       "      <th>4007</th>\n",
       "      <td>True</td>\n",
       "      <td>True</td>\n",
       "      <td>True</td>\n",
       "      <td>True</td>\n",
       "      <td>True</td>\n",
       "      <td>True</td>\n",
       "      <td>True</td>\n",
       "      <td>True</td>\n",
       "      <td>True</td>\n",
       "      <td>True</td>\n",
       "      <td>True</td>\n",
       "    </tr>\n",
       "  </tbody>\n",
       "</table>\n",
       "<p>4008 rows × 11 columns</p>\n",
       "</div>"
      ],
      "text/plain": [
       "      customer  state  gender  education  customer_lifetime_value  income  \\\n",
       "0        False  False    True      False                     True   False   \n",
       "1        False  False   False      False                    False   False   \n",
       "2        False  False   False      False                    False   False   \n",
       "3        False  False   False      False                    False   False   \n",
       "4        False  False   False      False                    False   False   \n",
       "...        ...    ...     ...        ...                      ...     ...   \n",
       "4003      True   True    True       True                     True    True   \n",
       "4004      True   True    True       True                     True    True   \n",
       "4005      True   True    True       True                     True    True   \n",
       "4006      True   True    True       True                     True    True   \n",
       "4007      True   True    True       True                     True    True   \n",
       "\n",
       "      monthly_premium_auto  number_of_open_complaints  policy_type  \\\n",
       "0                    False                      False        False   \n",
       "1                    False                      False        False   \n",
       "2                    False                      False        False   \n",
       "3                    False                      False        False   \n",
       "4                    False                      False        False   \n",
       "...                    ...                        ...          ...   \n",
       "4003                  True                       True         True   \n",
       "4004                  True                       True         True   \n",
       "4005                  True                       True         True   \n",
       "4006                  True                       True         True   \n",
       "4007                  True                       True         True   \n",
       "\n",
       "      vehicle_class  total_claim_amount  \n",
       "0             False               False  \n",
       "1             False               False  \n",
       "2             False               False  \n",
       "3             False               False  \n",
       "4             False               False  \n",
       "...             ...                 ...  \n",
       "4003           True                True  \n",
       "4004           True                True  \n",
       "4005           True                True  \n",
       "4006           True                True  \n",
       "4007           True                True  \n",
       "\n",
       "[4008 rows x 11 columns]"
      ]
     },
     "execution_count": 43,
     "metadata": {},
     "output_type": "execute_result"
    }
   ],
   "source": [
    "# identify null values\n",
    "ins_df.isnull()"
   ]
  },
  {
   "cell_type": "code",
   "execution_count": 45,
   "id": "5518885c-6bee-47a6-834a-2ad27f6a9bfb",
   "metadata": {},
   "outputs": [
    {
     "data": {
      "text/plain": [
       "customer                     True\n",
       "state                        True\n",
       "gender                       True\n",
       "education                    True\n",
       "customer_lifetime_value      True\n",
       "income                       True\n",
       "monthly_premium_auto         True\n",
       "number_of_open_complaints    True\n",
       "policy_type                  True\n",
       "vehicle_class                True\n",
       "total_claim_amount           True\n",
       "dtype: bool"
      ]
     },
     "execution_count": 45,
     "metadata": {},
     "output_type": "execute_result"
    }
   ],
   "source": [
    "# Check for null values in each column\n",
    "ins_df.isna().any()"
   ]
  },
  {
   "cell_type": "markdown",
   "id": "050760b5-ed4f-4ddd-bca9-b335cb178707",
   "metadata": {},
   "source": [
    "Drop the rows or columns with null values\n",
    "Fill the null values with a specific value (such as the column mean or median for numerical variables, and mode for categorical variables)\n",
    "Fill the null values with the previous or next value in the column\n",
    "Fill the null values based on a more complex algorithm or model (note: we haven't covered this yet)"
   ]
  },
  {
   "cell_type": "code",
   "execution_count": 48,
   "id": "34f457b1-3eca-4d8c-89b0-234954f865ff",
   "metadata": {},
   "outputs": [
    {
     "data": {
      "text/plain": [
       "monthly_premium_auto\n",
       "True     2937\n",
       "False    1071\n",
       "Name: count, dtype: int64"
      ]
     },
     "execution_count": 48,
     "metadata": {},
     "output_type": "execute_result"
    }
   ],
   "source": [
    "# missing_pt_rows=ins_df[ins_df['policy_type'].isnull()]\n",
    "# missing_pt_rows.isnull().sum(axis=1).value_counts()\n",
    "ins_df['monthly_premium_auto'].isnull().value_counts()"
   ]
  },
  {
   "cell_type": "code",
   "execution_count": 50,
   "id": "933b979c-9812-41c1-8ea5-3ae3ad098c92",
   "metadata": {},
   "outputs": [
    {
     "data": {
      "text/plain": [
       "True"
      ]
     },
     "execution_count": 50,
     "metadata": {},
     "output_type": "execute_result"
    }
   ],
   "source": [
    "ins_df['income'].isna().any()"
   ]
  },
  {
   "cell_type": "code",
   "execution_count": 52,
   "id": "66bd1b06-2f34-4362-b7e6-07f18c1cc370",
   "metadata": {},
   "outputs": [],
   "source": [
    "ins_df = ins_df.dropna(subset=['vehicle_class'])\n"
   ]
  },
  {
   "cell_type": "code",
   "execution_count": 54,
   "id": "84714bd6-3cfb-4093-8afc-e8aa1ce0e463",
   "metadata": {},
   "outputs": [
    {
     "data": {
      "text/plain": [
       "policy_type\n",
       "False    1071\n",
       "Name: count, dtype: int64"
      ]
     },
     "execution_count": 54,
     "metadata": {},
     "output_type": "execute_result"
    }
   ],
   "source": [
    "missing_vc_rows=ins_df[ins_df['vehicle_class'].isnull()]\n",
    "missing_vc_rows.isnull().sum(axis=1).value_counts()\n",
    "ins_df['policy_type'].isnull().value_counts()\n",
    "#so when I check true values are equal in each columns so i decided to drop all the rows has nan\n"
   ]
  },
  {
   "cell_type": "code",
   "execution_count": 56,
   "id": "2df10634-2be4-40d2-8de2-5d60bc5633f6",
   "metadata": {},
   "outputs": [
    {
     "ename": "NameError",
     "evalue": "name 'median_value' is not defined",
     "output_type": "error",
     "traceback": [
      "\u001b[0;31m---------------------------------------------------------------------------\u001b[0m",
      "\u001b[0;31mNameError\u001b[0m                                 Traceback (most recent call last)",
      "Cell \u001b[0;32mIn[56], line 5\u001b[0m\n\u001b[1;32m      1\u001b[0m \u001b[38;5;66;03m# ins_df['total_claim_amount'].isna().value_counts()\u001b[39;00m\n\u001b[1;32m      2\u001b[0m \u001b[38;5;66;03m# ins_df['total_claim_amount'].describe()\u001b[39;00m\n\u001b[1;32m      3\u001b[0m \n\u001b[1;32m      4\u001b[0m \u001b[38;5;66;03m# median_value= ins_df['total_claim_amount'].median()\u001b[39;00m\n\u001b[0;32m----> 5\u001b[0m ins_df[\u001b[38;5;124m'\u001b[39m\u001b[38;5;124mtotal_claim_amount\u001b[39m\u001b[38;5;124m'\u001b[39m]\u001b[38;5;241m=\u001b[39m ins_df[\u001b[38;5;124m'\u001b[39m\u001b[38;5;124mtotal_claim_amount\u001b[39m\u001b[38;5;124m'\u001b[39m]\u001b[38;5;241m.\u001b[39mfillna(median_value)\n",
      "\u001b[0;31mNameError\u001b[0m: name 'median_value' is not defined"
     ]
    }
   ],
   "source": [
    "# ins_df['total_claim_amount'].isna().value_counts()\n",
    "# ins_df['total_claim_amount'].describe()\n",
    "\n",
    "# median_value= ins_df['total_claim_amount'].median()\n",
    "ins_df['total_claim_amount']= ins_df['total_claim_amount'].fillna(median_value)"
   ]
  },
  {
   "cell_type": "code",
   "execution_count": 58,
   "id": "dd8f38d7-1aec-4c51-b3ff-aa01ba464472",
   "metadata": {},
   "outputs": [
    {
     "data": {
      "text/plain": [
       "Series([], dtype: int64)"
      ]
     },
     "execution_count": 58,
     "metadata": {},
     "output_type": "execute_result"
    }
   ],
   "source": [
    "#find the missing value and look if other columns are missing also\n",
    "missing_state_rows = ins_df[ins_df['state'].isnull()]\n",
    "missing_state_rows.isnull().sum(axis=1)\n",
    "#it look like yes at the end of the dataframe. \n",
    "# ins_df['state'] = ins_df['state'].dropna()"
   ]
  },
  {
   "cell_type": "code",
   "execution_count": 60,
   "id": "55133d37-af5f-4ef1-a0b2-2a0a58b866dd",
   "metadata": {},
   "outputs": [],
   "source": [
    "#explorehow many nan values\n",
    "ins_df['state'].isnull().value_counts()\n",
    "#it is too much we need to fillit with unknow\n",
    "ins_df['state'] = ins_df['state'].fillna('unknown')"
   ]
  },
  {
   "cell_type": "code",
   "execution_count": 62,
   "id": "c1f88547-efe7-40fa-89f0-f65b6c57ef11",
   "metadata": {},
   "outputs": [],
   "source": [
    "#it is categorical value it iss\n",
    "mode_v=ins_df['education'].mode()[0]\n",
    "ins_df['education'] = ins_df.education.fillna(mode_v)"
   ]
  },
  {
   "cell_type": "code",
   "execution_count": 64,
   "id": "af156f00-f0f0-4cf0-aac4-7def4609523d",
   "metadata": {},
   "outputs": [],
   "source": [
    "#categorical variable as a gender so fill with mode\n",
    "mode_value=ins_df['gender'].mode()[0]\n",
    "ins_df['gender'] = ins_df['gender'].fillna(mode_value)"
   ]
  },
  {
   "cell_type": "code",
   "execution_count": 66,
   "id": "7d273335-e342-492b-97c3-eedfbc39f353",
   "metadata": {},
   "outputs": [],
   "source": [
    "#explore how many nan values\n",
    "ins_df['customer'].isnull().value_counts()\n",
    "#it is too much we need to fillit with unknow\n",
    "ins_df['customer'] = ins_df['customer'].fillna('unknown')"
   ]
  },
  {
   "cell_type": "markdown",
   "id": "35c85fd8-6d33-4a9c-bac7-4454c66cd248",
   "metadata": {},
   "source": [
    "Sort the numbers from smallest to biggest.\n",
    "Find the middle number.\n",
    "If there’s an odd number of numbers → the median is the exact middle one.\n",
    "If there’s an even number → the median is the average of the two middle numbers."
   ]
  },
  {
   "cell_type": "code",
   "execution_count": 69,
   "id": "263c90af-2fb8-4cd9-a849-0e7ed65c7174",
   "metadata": {},
   "outputs": [],
   "source": [
    "ins_df['customer_lifetime_value'].describe()\n",
    "#min and max has too much difference so there is skewed data we need to use median\n",
    "\n",
    "median_v = ins_df['customer_lifetime_value'].median()\n",
    "ins_df['customer_lifetime_value']= ins_df['customer_lifetime_value'].fillna(median_v)"
   ]
  },
  {
   "cell_type": "markdown",
   "id": "98416351-e999-4156-9834-9b00a311adfa",
   "metadata": {
    "id": "98416351-e999-4156-9834-9b00a311adfa"
   },
   "source": [
    "## Exercise 5: Dealing with duplicates"
   ]
  },
  {
   "cell_type": "markdown",
   "id": "ea0816a7-a18e-4d4c-b667-a8452a800bd1",
   "metadata": {
    "id": "ea0816a7-a18e-4d4c-b667-a8452a800bd1"
   },
   "source": [
    "Use the `.duplicated()` method to identify any duplicate rows in the dataframe.\n",
    "\n",
    "Decide on a strategy for handling the duplicates. Options include:\n",
    "- Dropping all duplicate rows\n",
    "- Keeping only the first occurrence of each duplicated row\n",
    "- Keeping only the last occurrence of each duplicated row\n",
    "- Dropping duplicates based on a subset of columns\n",
    "- Dropping duplicates based on a specific column\n",
    "\n",
    "Implement your chosen strategy using the `drop_duplicates()` function.\n",
    "\n",
    "Verify that your strategy has successfully handled the duplicates by checking for duplicates again using `.duplicated()`.\n",
    "\n",
    "Remember to document your process and explain your reasoning for choosing a particular strategy for handling duplicates.\n",
    "\n",
    "Save the cleaned dataset to a new CSV file.\n",
    "\n",
    "*Hint*: *after dropping duplicates, reset the index to ensure consistency*."
   ]
  },
  {
   "cell_type": "code",
   "execution_count": 73,
   "id": "f73b4246-7a55-4bb9-9f8b-2014564b77ed",
   "metadata": {},
   "outputs": [
    {
     "data": {
      "text/plain": [
       "Index(['customer', 'state', 'gender', 'education', 'customer_lifetime_value',\n",
       "       'income', 'monthly_premium_auto', 'number_of_open_complaints',\n",
       "       'policy_type', 'vehicle_class', 'total_claim_amount'],\n",
       "      dtype='object')"
      ]
     },
     "execution_count": 73,
     "metadata": {},
     "output_type": "execute_result"
    }
   ],
   "source": [
    "ins_df.columns"
   ]
  },
  {
   "cell_type": "code",
   "execution_count": 81,
   "id": "94dc0925-21c7-402b-8a6e-e509226d91ef",
   "metadata": {},
   "outputs": [
    {
     "data": {
      "text/html": [
       "<div>\n",
       "<style scoped>\n",
       "    .dataframe tbody tr th:only-of-type {\n",
       "        vertical-align: middle;\n",
       "    }\n",
       "\n",
       "    .dataframe tbody tr th {\n",
       "        vertical-align: top;\n",
       "    }\n",
       "\n",
       "    .dataframe thead th {\n",
       "        text-align: right;\n",
       "    }\n",
       "</style>\n",
       "<table border=\"1\" class=\"dataframe\">\n",
       "  <thead>\n",
       "    <tr style=\"text-align: right;\">\n",
       "      <th></th>\n",
       "      <th>customer</th>\n",
       "      <th>state</th>\n",
       "      <th>gender</th>\n",
       "      <th>education</th>\n",
       "      <th>customer_lifetime_value</th>\n",
       "      <th>income</th>\n",
       "      <th>monthly_premium_auto</th>\n",
       "      <th>number_of_open_complaints</th>\n",
       "      <th>policy_type</th>\n",
       "      <th>vehicle_class</th>\n",
       "      <th>total_claim_amount</th>\n",
       "    </tr>\n",
       "  </thead>\n",
       "  <tbody>\n",
       "    <tr>\n",
       "      <th>0</th>\n",
       "      <td>RB50392</td>\n",
       "      <td>Washington</td>\n",
       "      <td>F</td>\n",
       "      <td>Master</td>\n",
       "      <td>588174.235</td>\n",
       "      <td>0.0</td>\n",
       "      <td>1000.0</td>\n",
       "      <td>1/0/00</td>\n",
       "      <td>Personal Auto</td>\n",
       "      <td>Four-Door Car</td>\n",
       "      <td>2.704934</td>\n",
       "    </tr>\n",
       "    <tr>\n",
       "      <th>1</th>\n",
       "      <td>QZ44356</td>\n",
       "      <td>Arizona</td>\n",
       "      <td>F</td>\n",
       "      <td>Bachelor</td>\n",
       "      <td>697953.590</td>\n",
       "      <td>0.0</td>\n",
       "      <td>94.0</td>\n",
       "      <td>1/0/00</td>\n",
       "      <td>Personal Auto</td>\n",
       "      <td>Four-Door Car</td>\n",
       "      <td>1131.464935</td>\n",
       "    </tr>\n",
       "    <tr>\n",
       "      <th>2</th>\n",
       "      <td>AI49188</td>\n",
       "      <td>Nevada</td>\n",
       "      <td>F</td>\n",
       "      <td>Bachelor</td>\n",
       "      <td>1288743.170</td>\n",
       "      <td>48767.0</td>\n",
       "      <td>108.0</td>\n",
       "      <td>1/0/00</td>\n",
       "      <td>Personal Auto</td>\n",
       "      <td>Two-Door Car</td>\n",
       "      <td>566.472247</td>\n",
       "    </tr>\n",
       "    <tr>\n",
       "      <th>3</th>\n",
       "      <td>WW63253</td>\n",
       "      <td>California</td>\n",
       "      <td>M</td>\n",
       "      <td>Bachelor</td>\n",
       "      <td>764586.180</td>\n",
       "      <td>0.0</td>\n",
       "      <td>106.0</td>\n",
       "      <td>1/0/00</td>\n",
       "      <td>Corporate Auto</td>\n",
       "      <td>SUV</td>\n",
       "      <td>529.881344</td>\n",
       "    </tr>\n",
       "    <tr>\n",
       "      <th>4</th>\n",
       "      <td>GA49547</td>\n",
       "      <td>Washington</td>\n",
       "      <td>M</td>\n",
       "      <td>High School or Below</td>\n",
       "      <td>536307.650</td>\n",
       "      <td>36357.0</td>\n",
       "      <td>68.0</td>\n",
       "      <td>1/0/00</td>\n",
       "      <td>Personal Auto</td>\n",
       "      <td>Four-Door Car</td>\n",
       "      <td>17.269323</td>\n",
       "    </tr>\n",
       "    <tr>\n",
       "      <th>...</th>\n",
       "      <td>...</td>\n",
       "      <td>...</td>\n",
       "      <td>...</td>\n",
       "      <td>...</td>\n",
       "      <td>...</td>\n",
       "      <td>...</td>\n",
       "      <td>...</td>\n",
       "      <td>...</td>\n",
       "      <td>...</td>\n",
       "      <td>...</td>\n",
       "      <td>...</td>\n",
       "    </tr>\n",
       "    <tr>\n",
       "      <th>1066</th>\n",
       "      <td>TM65736</td>\n",
       "      <td>Oregon</td>\n",
       "      <td>M</td>\n",
       "      <td>Master</td>\n",
       "      <td>305955.030</td>\n",
       "      <td>38644.0</td>\n",
       "      <td>78.0</td>\n",
       "      <td>1/1/00</td>\n",
       "      <td>Personal Auto</td>\n",
       "      <td>Four-Door Car</td>\n",
       "      <td>361.455219</td>\n",
       "    </tr>\n",
       "    <tr>\n",
       "      <th>1067</th>\n",
       "      <td>VJ51327</td>\n",
       "      <td>California</td>\n",
       "      <td>F</td>\n",
       "      <td>High School or Below</td>\n",
       "      <td>2031499.760</td>\n",
       "      <td>63209.0</td>\n",
       "      <td>102.0</td>\n",
       "      <td>1/2/00</td>\n",
       "      <td>Personal Auto</td>\n",
       "      <td>SUV</td>\n",
       "      <td>207.320041</td>\n",
       "    </tr>\n",
       "    <tr>\n",
       "      <th>1068</th>\n",
       "      <td>GS98873</td>\n",
       "      <td>Arizona</td>\n",
       "      <td>F</td>\n",
       "      <td>Bachelor</td>\n",
       "      <td>323912.470</td>\n",
       "      <td>16061.0</td>\n",
       "      <td>88.0</td>\n",
       "      <td>1/0/00</td>\n",
       "      <td>Personal Auto</td>\n",
       "      <td>Four-Door Car</td>\n",
       "      <td>633.600000</td>\n",
       "    </tr>\n",
       "    <tr>\n",
       "      <th>1069</th>\n",
       "      <td>CW49887</td>\n",
       "      <td>California</td>\n",
       "      <td>F</td>\n",
       "      <td>Master</td>\n",
       "      <td>462680.110</td>\n",
       "      <td>79487.0</td>\n",
       "      <td>114.0</td>\n",
       "      <td>1/0/00</td>\n",
       "      <td>Special Auto</td>\n",
       "      <td>SUV</td>\n",
       "      <td>547.200000</td>\n",
       "    </tr>\n",
       "    <tr>\n",
       "      <th>1070</th>\n",
       "      <td>MY31220</td>\n",
       "      <td>California</td>\n",
       "      <td>F</td>\n",
       "      <td>College</td>\n",
       "      <td>899704.020</td>\n",
       "      <td>54230.0</td>\n",
       "      <td>112.0</td>\n",
       "      <td>1/0/00</td>\n",
       "      <td>Personal Auto</td>\n",
       "      <td>Two-Door Car</td>\n",
       "      <td>537.600000</td>\n",
       "    </tr>\n",
       "  </tbody>\n",
       "</table>\n",
       "<p>1071 rows × 11 columns</p>\n",
       "</div>"
      ],
      "text/plain": [
       "     customer       state gender             education  \\\n",
       "0     RB50392  Washington      F                Master   \n",
       "1     QZ44356     Arizona      F              Bachelor   \n",
       "2     AI49188      Nevada      F              Bachelor   \n",
       "3     WW63253  California      M              Bachelor   \n",
       "4     GA49547  Washington      M  High School or Below   \n",
       "...       ...         ...    ...                   ...   \n",
       "1066  TM65736      Oregon      M                Master   \n",
       "1067  VJ51327  California      F  High School or Below   \n",
       "1068  GS98873     Arizona      F              Bachelor   \n",
       "1069  CW49887  California      F                Master   \n",
       "1070  MY31220  California      F               College   \n",
       "\n",
       "      customer_lifetime_value   income  monthly_premium_auto  \\\n",
       "0                  588174.235      0.0                1000.0   \n",
       "1                  697953.590      0.0                  94.0   \n",
       "2                 1288743.170  48767.0                 108.0   \n",
       "3                  764586.180      0.0                 106.0   \n",
       "4                  536307.650  36357.0                  68.0   \n",
       "...                       ...      ...                   ...   \n",
       "1066               305955.030  38644.0                  78.0   \n",
       "1067              2031499.760  63209.0                 102.0   \n",
       "1068               323912.470  16061.0                  88.0   \n",
       "1069               462680.110  79487.0                 114.0   \n",
       "1070               899704.020  54230.0                 112.0   \n",
       "\n",
       "     number_of_open_complaints     policy_type  vehicle_class  \\\n",
       "0                       1/0/00   Personal Auto  Four-Door Car   \n",
       "1                       1/0/00   Personal Auto  Four-Door Car   \n",
       "2                       1/0/00   Personal Auto   Two-Door Car   \n",
       "3                       1/0/00  Corporate Auto            SUV   \n",
       "4                       1/0/00   Personal Auto  Four-Door Car   \n",
       "...                        ...             ...            ...   \n",
       "1066                    1/1/00   Personal Auto  Four-Door Car   \n",
       "1067                    1/2/00   Personal Auto            SUV   \n",
       "1068                    1/0/00   Personal Auto  Four-Door Car   \n",
       "1069                    1/0/00    Special Auto            SUV   \n",
       "1070                    1/0/00   Personal Auto   Two-Door Car   \n",
       "\n",
       "      total_claim_amount  \n",
       "0               2.704934  \n",
       "1            1131.464935  \n",
       "2             566.472247  \n",
       "3             529.881344  \n",
       "4              17.269323  \n",
       "...                  ...  \n",
       "1066          361.455219  \n",
       "1067          207.320041  \n",
       "1068          633.600000  \n",
       "1069          547.200000  \n",
       "1070          537.600000  \n",
       "\n",
       "[1071 rows x 11 columns]"
      ]
     },
     "execution_count": 81,
     "metadata": {},
     "output_type": "execute_result"
    }
   ],
   "source": [
    "ins_df.drop_duplicates(subset=['customer'])"
   ]
  },
  {
   "cell_type": "code",
   "execution_count": 208,
   "id": "b0024a1c-9ca3-441a-8f2a-4cd054c4daed",
   "metadata": {},
   "outputs": [
    {
     "data": {
      "text/plain": [
       "monthly_premium_auto\n",
       "True     939\n",
       "False    132\n",
       "Name: count, dtype: int64"
      ]
     },
     "execution_count": 208,
     "metadata": {},
     "output_type": "execute_result"
    }
   ],
   "source": [
    "#i need to keep them\n",
    "ins_df['monthly_premium_auto'].duplicated().value_counts()"
   ]
  },
  {
   "cell_type": "code",
   "execution_count": 212,
   "id": "e23f9cf7-116d-4755-a7c4-e19bafc9c89d",
   "metadata": {},
   "outputs": [
    {
     "data": {
      "text/plain": [
       "0    1000.0\n",
       "1      94.0\n",
       "2     108.0\n",
       "3     106.0\n",
       "4      68.0\n",
       "Name: monthly_premium_auto, dtype: float64"
      ]
     },
     "execution_count": 212,
     "metadata": {},
     "output_type": "execute_result"
    }
   ],
   "source": [
    "ins_df['monthly_premium_auto'].head()"
   ]
  },
  {
   "cell_type": "code",
   "execution_count": 214,
   "id": "1929362c-47ed-47cb-baca-358b78d401a0",
   "metadata": {
    "id": "1929362c-47ed-47cb-baca-358b78d401a0"
   },
   "outputs": [
    {
     "data": {
      "text/plain": [
       "0       2.704934\n",
       "1    1131.464935\n",
       "2     566.472247\n",
       "3     529.881344\n",
       "4      17.269323\n",
       "Name: total_claim_amount, dtype: float64"
      ]
     },
     "execution_count": 214,
     "metadata": {},
     "output_type": "execute_result"
    }
   ],
   "source": [
    "# i need to keep them\n",
    "ins_df['total_claim_amount'].duplicated()"
   ]
  },
  {
   "cell_type": "markdown",
   "id": "60840701-4783-40e2-b4d8-55303f9100c9",
   "metadata": {
    "id": "60840701-4783-40e2-b4d8-55303f9100c9"
   },
   "source": [
    "# Bonus: Challenge 2: creating functions on a separate `py` file"
   ]
  },
  {
   "cell_type": "markdown",
   "id": "9d1adb3a-17cf-4899-8041-da21a4337fb4",
   "metadata": {
    "id": "9d1adb3a-17cf-4899-8041-da21a4337fb4"
   },
   "source": [
    "Put all the data cleaning and formatting steps into functions, and create a main function that performs all the cleaning and formatting.\n",
    "\n",
    "Write these functions in separate .py file(s). By putting these steps into functions, we can make the code more modular and easier to maintain."
   ]
  },
  {
   "cell_type": "markdown",
   "id": "0e170dc2-b62c-417a-8248-e63ed18a70c4",
   "metadata": {
    "id": "0e170dc2-b62c-417a-8248-e63ed18a70c4"
   },
   "source": [
    "*Hint: autoreload module is a utility module in Python that allows you to automatically reload modules in the current session when changes are made to the source code. This can be useful in situations where you are actively developing code and want to see the effects of changes you make without having to constantly restart the Python interpreter or Jupyter Notebook kernel.*"
   ]
  },
  {
   "cell_type": "code",
   "execution_count": 48,
   "id": "a52c6dfc-cd11-4d01-bda4-f719fa33e9a4",
   "metadata": {
    "id": "a52c6dfc-cd11-4d01-bda4-f719fa33e9a4"
   },
   "outputs": [
    {
     "name": "stdout",
     "output_type": "stream",
     "text": [
      "The autoreload extension is already loaded. To reload it, use:\n",
      "  %reload_ext autoreload\n"
     ]
    }
   ],
   "source": [
    "%load_ext autoreload\n",
    "%autoreload 2\n",
    "\n",
    "from cleaning_functions import main_cleaning\n",
    "\n",
    "# Load your data\n",
    "ins_df=pd.read_csv('https://raw.githubusercontent.com/data-bootcamp-v4/data/main/file1.csv')\n",
    "# Clean your data\n",
    "ins_df = main_cleaning(ins_df)\n",
    "\n",
    "\n"
   ]
  },
  {
   "cell_type": "markdown",
   "id": "80f846bb-3f5e-4ca2-96c0-900728daca5a",
   "metadata": {
    "id": "80f846bb-3f5e-4ca2-96c0-900728daca5a",
    "tags": []
   },
   "source": [
    "# Bonus: Challenge 3: Analyzing Clean and Formated Data"
   ]
  },
  {
   "cell_type": "markdown",
   "id": "9021630e-cc90-446c-b5bd-264d6c864207",
   "metadata": {
    "id": "9021630e-cc90-446c-b5bd-264d6c864207"
   },
   "source": [
    "You have been tasked with analyzing the data to identify potential areas for improving customer retention and profitability. Your goal is to identify customers with a high policy claim amount and a low customer lifetime value.\n",
    "\n",
    "In the Pandas Lab, we only looked at high policy claim amounts because we couldn't look into low customer lifetime values. If we had tried to work with that column, we wouldn't have been able to because customer lifetime value wasn't clean and in its proper format. So after cleaning and formatting the data, let's get some more interesting insights!\n",
    "\n",
    "Instructions:\n",
    "\n",
    "- Review the statistics again for total claim amount and customer lifetime value to gain an understanding of the data.\n",
    "- To identify potential areas for improving customer retention and profitability, we want to focus on customers with a high policy claim amount and a low customer lifetime value. Consider customers with a high policy claim amount to be those in the top 25% of the total claim amount, and clients with a low customer lifetime value to be those in the bottom 25% of the customer lifetime value. Create a pandas DataFrame object that contains information about customers with a policy claim amount greater than the 75th percentile and a customer lifetime value in the bottom 25th percentile.\n",
    "- Use DataFrame methods to calculate summary statistics about the high policy claim amount and low customer lifetime value data. To do so, select both columns of the dataframe simultaneously and pass it to the `.describe()` method. This will give you descriptive statistics, such as mean, median, standard deviation, minimum and maximum values for both columns at the same time, allowing you to compare and analyze their characteristics."
   ]
  },
  {
   "cell_type": "code",
   "execution_count": 234,
   "id": "211e82b5-461a-4d6f-8a23-4deccb84173c",
   "metadata": {
    "id": "211e82b5-461a-4d6f-8a23-4deccb84173c"
   },
   "outputs": [
    {
     "data": {
      "text/plain": [
       "Index(['customer', 'state', 'gender', 'education', 'customer_lifetime_value',\n",
       "       'income', 'monthly_premium_auto', 'number_of_open_complaints',\n",
       "       'policy_type', 'vehicle_class', 'total_claim_amount'],\n",
       "      dtype='object')"
      ]
     },
     "execution_count": 234,
     "metadata": {},
     "output_type": "execute_result"
    }
   ],
   "source": [
    "#  goal is to identify customers with a high policy claim amount and a low customer lifetime value\n",
    "#total claim amount and customer lifetime value\n",
    "ins_df.columns"
   ]
  },
  {
   "cell_type": "code",
   "execution_count": 238,
   "id": "38e41be4-1535-43d0-b2dc-7474365ab972",
   "metadata": {},
   "outputs": [
    {
     "data": {
      "text/plain": [
       "count    1.071000e+03\n",
       "mean     7.931146e+05\n",
       "std      6.426676e+05\n",
       "min      2.004351e+05\n",
       "25%      4.048535e+05\n",
       "50%      5.881742e+05\n",
       "75%      8.945210e+05\n",
       "max      5.816655e+06\n",
       "Name: customer_lifetime_value, dtype: float64"
      ]
     },
     "execution_count": 238,
     "metadata": {},
     "output_type": "execute_result"
    }
   ],
   "source": [
    "ins_df['customer_lifetime_value'].describe()\n",
    "#Low customer lifetime value; bottom 25% of the customer lifetime value"
   ]
  },
  {
   "cell_type": "code",
   "execution_count": 244,
   "id": "833eac5f-d03a-4943-96ef-70b74796bfd3",
   "metadata": {},
   "outputs": [
    {
     "data": {
      "text/plain": [
       "count    1071.000000\n",
       "mean      404.986909\n",
       "std       293.027260\n",
       "min         0.382107\n",
       "25%       202.157702\n",
       "50%       354.729129\n",
       "75%       532.800000\n",
       "max      2893.239678\n",
       "Name: total_claim_amount, dtype: float64"
      ]
     },
     "execution_count": 244,
     "metadata": {},
     "output_type": "execute_result"
    }
   ],
   "source": [
    "ins_df['total_claim_amount'].describe()\n",
    "#high total claim amount; the top 25% of the total claim amount"
   ]
  },
  {
   "cell_type": "code",
   "execution_count": 246,
   "id": "66625090-546a-4b06-9624-674e9b196554",
   "metadata": {},
   "outputs": [],
   "source": [
    "# Find 75th percentile of Total Claim Amount\n",
    "claim_amount_75 = ins_df['total_claim_amount'].quantile(0.75)"
   ]
  },
  {
   "cell_type": "code",
   "execution_count": 250,
   "id": "ad46ce54-e45d-4787-bd96-eb8ca43bd0b4",
   "metadata": {},
   "outputs": [],
   "source": [
    "#25th percentile of CLV\n",
    "clv_25= ins_df['customer_lifetime_value'].quantile(0.25)"
   ]
  },
  {
   "cell_type": "code",
   "execution_count": 258,
   "id": "d77c7043-d8f2-4293-9a11-821d73c080bb",
   "metadata": {},
   "outputs": [
    {
     "name": "stdout",
     "output_type": "stream",
     "text": [
      "(40, 11)\n"
     ]
    },
    {
     "data": {
      "text/html": [
       "<div>\n",
       "<style scoped>\n",
       "    .dataframe tbody tr th:only-of-type {\n",
       "        vertical-align: middle;\n",
       "    }\n",
       "\n",
       "    .dataframe tbody tr th {\n",
       "        vertical-align: top;\n",
       "    }\n",
       "\n",
       "    .dataframe thead th {\n",
       "        text-align: right;\n",
       "    }\n",
       "</style>\n",
       "<table border=\"1\" class=\"dataframe\">\n",
       "  <thead>\n",
       "    <tr style=\"text-align: right;\">\n",
       "      <th></th>\n",
       "      <th>customer</th>\n",
       "      <th>state</th>\n",
       "      <th>gender</th>\n",
       "      <th>education</th>\n",
       "      <th>customer_lifetime_value</th>\n",
       "      <th>income</th>\n",
       "      <th>monthly_premium_auto</th>\n",
       "      <th>number_of_open_complaints</th>\n",
       "      <th>policy_type</th>\n",
       "      <th>vehicle_class</th>\n",
       "      <th>total_claim_amount</th>\n",
       "    </tr>\n",
       "  </thead>\n",
       "  <tbody>\n",
       "    <tr>\n",
       "      <th>17</th>\n",
       "      <td>OE15005</td>\n",
       "      <td>California</td>\n",
       "      <td>F</td>\n",
       "      <td>College</td>\n",
       "      <td>394524.16</td>\n",
       "      <td>28855.0</td>\n",
       "      <td>101.0</td>\n",
       "      <td>1/0/00</td>\n",
       "      <td>Personal Auto</td>\n",
       "      <td>SUV</td>\n",
       "      <td>647.442031</td>\n",
       "    </tr>\n",
       "    <tr>\n",
       "      <th>23</th>\n",
       "      <td>TZ98966</td>\n",
       "      <td>Nevada</td>\n",
       "      <td>F</td>\n",
       "      <td>Bachelor</td>\n",
       "      <td>245019.10</td>\n",
       "      <td>0.0</td>\n",
       "      <td>73.0</td>\n",
       "      <td>1/3/00</td>\n",
       "      <td>Corporate Auto</td>\n",
       "      <td>Four-Door Car</td>\n",
       "      <td>554.376763</td>\n",
       "    </tr>\n",
       "    <tr>\n",
       "      <th>26</th>\n",
       "      <td>US89481</td>\n",
       "      <td>California</td>\n",
       "      <td>F</td>\n",
       "      <td>Bachelor</td>\n",
       "      <td>394637.21</td>\n",
       "      <td>0.0</td>\n",
       "      <td>111.0</td>\n",
       "      <td>1/0/00</td>\n",
       "      <td>Personal Auto</td>\n",
       "      <td>Four-Door Car</td>\n",
       "      <td>799.200000</td>\n",
       "    </tr>\n",
       "    <tr>\n",
       "      <th>38</th>\n",
       "      <td>CM61827</td>\n",
       "      <td>Oregon</td>\n",
       "      <td>F</td>\n",
       "      <td>Bachelor</td>\n",
       "      <td>309003.41</td>\n",
       "      <td>0.0</td>\n",
       "      <td>90.0</td>\n",
       "      <td>1/0/00</td>\n",
       "      <td>Personal Auto</td>\n",
       "      <td>Two-Door Car</td>\n",
       "      <td>648.000000</td>\n",
       "    </tr>\n",
       "    <tr>\n",
       "      <th>42</th>\n",
       "      <td>IL19217</td>\n",
       "      <td>California</td>\n",
       "      <td>F</td>\n",
       "      <td>Bachelor</td>\n",
       "      <td>393900.64</td>\n",
       "      <td>60021.0</td>\n",
       "      <td>99.0</td>\n",
       "      <td>1/0/00</td>\n",
       "      <td>Personal Auto</td>\n",
       "      <td>Four-Door Car</td>\n",
       "      <td>882.871945</td>\n",
       "    </tr>\n",
       "  </tbody>\n",
       "</table>\n",
       "</div>"
      ],
      "text/plain": [
       "   customer       state gender education  customer_lifetime_value   income  \\\n",
       "17  OE15005  California      F   College                394524.16  28855.0   \n",
       "23  TZ98966      Nevada      F  Bachelor                245019.10      0.0   \n",
       "26  US89481  California      F  Bachelor                394637.21      0.0   \n",
       "38  CM61827      Oregon      F  Bachelor                309003.41      0.0   \n",
       "42  IL19217  California      F  Bachelor                393900.64  60021.0   \n",
       "\n",
       "    monthly_premium_auto number_of_open_complaints     policy_type  \\\n",
       "17                 101.0                    1/0/00   Personal Auto   \n",
       "23                  73.0                    1/3/00  Corporate Auto   \n",
       "26                 111.0                    1/0/00   Personal Auto   \n",
       "38                  90.0                    1/0/00   Personal Auto   \n",
       "42                  99.0                    1/0/00   Personal Auto   \n",
       "\n",
       "    vehicle_class  total_claim_amount  \n",
       "17            SUV          647.442031  \n",
       "23  Four-Door Car          554.376763  \n",
       "26  Four-Door Car          799.200000  \n",
       "38   Two-Door Car          648.000000  \n",
       "42  Four-Door Car          882.871945  "
      ]
     },
     "execution_count": 258,
     "metadata": {},
     "output_type": "execute_result"
    }
   ],
   "source": [
    "#find this condition\n",
    "target_customers = ins_df[\n",
    "    (ins_df['total_claim_amount'] > claim_amount_75) &\n",
    "    (ins_df['customer_lifetime_value'] < clv_25)\n",
    "]\n",
    "print(target_customers.shape)\n",
    "target_customers.head()"
   ]
  },
  {
   "cell_type": "code",
   "execution_count": null,
   "id": "968c5bfc-bf47-42cd-b083-f487e591eae9",
   "metadata": {},
   "outputs": [],
   "source": [
    "# Step 1: Calculate thresholds\n",
    "claim_amount_75 = ins_df['total_claim_amount'].quantile(0.75)\n",
    "clv_25 = ins_df['customer_lifetime_value'].quantile(0.25)\n",
    "\n",
    "# Step 2: Filter\n",
    "target_customers = ins_df[\n",
    "    (ins_df['total_claim_amount'] > claim_amount_75) &\n",
    "    (ins_df['customer_lifetime_value'] < clv_25)\n",
    "]\n",
    "\n",
    "# Step 3: View\n",
    "print(target_customers.shape)\n",
    "target_customers.head()\n",
    "\n",
    "# (Optional) Step 4: Save\n",
    "target_customers.to_csv('target_customers.csv', index=False)\n"
   ]
  }
 ],
 "metadata": {
  "colab": {
   "provenance": []
  },
  "kernelspec": {
   "display_name": "Python [conda env:base] *",
   "language": "python",
   "name": "conda-base-py"
  },
  "language_info": {
   "codemirror_mode": {
    "name": "ipython",
    "version": 3
   },
   "file_extension": ".py",
   "mimetype": "text/x-python",
   "name": "python",
   "nbconvert_exporter": "python",
   "pygments_lexer": "ipython3",
   "version": "3.12.7"
  }
 },
 "nbformat": 4,
 "nbformat_minor": 5
}
