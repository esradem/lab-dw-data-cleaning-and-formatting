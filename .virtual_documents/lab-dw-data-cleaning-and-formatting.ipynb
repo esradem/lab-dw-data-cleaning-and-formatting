














# importing library and read df
import pandas as pd


ins_df=pd.read_csv('https://raw.githubusercontent.com/data-bootcamp-v4/data/main/file1.csv')
ins_df.head()


ins_df.columns = ins_df.columns.str.lower().str.replace(' ', '_')






ins_df.columns









# Your code here














# Your code here








# Your code here








# Your code here











# Your code here








# Your code here
